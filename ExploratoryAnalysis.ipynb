{
 "cells": [
  {
   "cell_type": "markdown",
   "metadata": {},
   "source": [
    "# Exploratory Analysis of the US Health Insurance Market from 2014-2016\n",
    "\n",
    "This notebook does an exploratory analysis of the US Health Insurance Market from 2014-2016 provided as an sqlite database on Kaggle. The database is nearly 4 GB, so it was downloaded manually and placed in the folder 'data'."
   ]
  },
  {
   "cell_type": "code",
   "execution_count": 1,
   "metadata": {
    "collapsed": true
   },
   "outputs": [],
   "source": [
    "# import relevant libraries\n",
    "\n",
    "import numpy as np\n",
    "import pandas as pd\n",
    "import matplotlib as mpl\n",
    "import matplotlib.pyplot as plt\n",
    "import seaborn as sns\n",
    "import sqlalchemy as sqla\n",
    "\n"
   ]
  },
  {
   "cell_type": "markdown",
   "metadata": {},
   "source": [
    "## Connection to Database and Examination of Database Structure"
   ]
  },
  {
   "cell_type": "code",
   "execution_count": 11,
   "metadata": {
    "collapsed": false,
    "scrolled": false
   },
   "outputs": [
    {
     "name": "stdout",
     "output_type": "stream",
     "text": [
      "BenefitsCostSharing Column Names:\n",
      "\n",
      "['BenefitName', 'BusinessYear', 'CoinsInnTier1', 'CoinsInnTier2', 'CoinsOutofNet', 'CopayInnTier1', 'CopayInnTier2', 'CopayOutofNet', 'EHBVarReason', 'Exclusions', 'Explanation', 'ImportDate', 'IsCovered', 'IsEHB', 'IsExclFromInnMOOP', 'IsExclFromOonMOOP', 'IsStateMandate', 'IsSubjToDedTier1', 'IsSubjToDedTier2', 'IssuerId', 'IssuerId2', 'LimitQty', 'LimitUnit', 'MinimumStay', 'PlanId', 'QuantLimitOnSvc', 'RowNumber', 'SourceName', 'StandardComponentId', 'StateCode', 'StateCode2', 'VersionNum']\n",
      "\n",
      "\n",
      "BusinessRules Column Names:\n",
      "\n",
      "['BusinessYear', 'StateCode', 'IssuerId', 'SourceName', 'VersionNum', 'ImportDate', 'IssuerId2', 'TIN', 'ProductId', 'StandardComponentId', 'EnrolleeContractRateDeterminationRule', 'TwoParentFamilyMaxDependentsRule', 'SingleParentFamilyMaxDependentsRule', 'DependentMaximumAgRule', 'ChildrenOnlyContractMaxChildrenRule', 'DomesticPartnerAsSpouseIndicator', 'SameSexPartnerAsSpouseIndicator', 'AgeDeterminationRule', 'MinimumTobaccoFreeMonthsRule', 'CohabitationRule', 'RowNumber', 'MarketCoverage', 'DentalOnlyPlan']\n",
      "\n",
      "\n",
      "Crosswalk2015 Column Names:\n",
      "\n",
      "['State', 'DentalPlan', 'PlanID_2014', 'IssuerID_2014', 'MultistatePlan_2014', 'MetalLevel_2014', 'ChildAdultOnly_2014', 'FIPSCode', 'ZipCode', 'CrosswalkLevel', 'ReasonForCrosswalk', 'PlanID_2015', 'IssuerID_2015', 'MultistatePlan_2015', 'MetalLevel_2015', 'ChildAdultOnly_2015', 'AgeOffPlanID_2015', 'IssuerID_AgeOff2015', 'MultistatePlan_AgeOff2015', 'MetalLevel_AgeOff2015', 'ChildAdultOnly_AgeOff2015']\n",
      "\n",
      "\n",
      "Crosswalk2016 Column Names:\n",
      "\n",
      "['State', 'DentalPlan', 'PlanID_2015', 'IssuerID_2015', 'MultistatePlan_2015', 'MetalLevel_2015', 'ChildAdultOnly_2015', 'FIPSCode', 'ZipCode', 'CrosswalkLevel', 'ReasonForCrosswalk', 'PlanID_2016', 'IssuerID_2016', 'MultistatePlan_2016', 'MetalLevel_2016', 'ChildAdultOnly_2016', 'AgeOffPlanID_2016', 'IssuerID_AgeOff2016', 'MultistatePlan_AgeOff2016', 'MetalLevel_AgeOff2016', 'ChildAdultOnly_AgeOff2016']\n",
      "\n",
      "\n",
      "Network Column Names:\n",
      "\n",
      "['BusinessYear', 'StateCode', 'IssuerId', 'SourceName', 'VersionNum', 'ImportDate', 'IssuerId2', 'StateCode2', 'NetworkName', 'NetworkId', 'NetworkURL', 'RowNumber', 'MarketCoverage', 'DentalOnlyPlan']\n",
      "\n",
      "\n",
      "PlanAttributes Column Names:\n",
      "\n",
      "['AVCalculatorOutputNumber', 'BeginPrimaryCareCostSharingAfterNumberOfVisits', 'BeginPrimaryCareDeductibleCoinsuranceAfterNumberOfCopays', 'BenefitPackageId', 'BusinessYear', 'CSRVariationType', 'ChildOnlyOffering', 'ChildOnlyPlanId', 'CompositeRatingOffered', 'DEHBCombInnOonFamilyMOOP', 'DEHBCombInnOonFamilyPerGroupMOOP', 'DEHBCombInnOonFamilyPerPersonMOOP', 'DEHBCombInnOonIndividualMOOP', 'DEHBDedCombInnOonFamily', 'DEHBDedCombInnOonFamilyPerGroup', 'DEHBDedCombInnOonFamilyPerPerson', 'DEHBDedCombInnOonIndividual', 'DEHBDedInnTier1Coinsurance', 'DEHBDedInnTier1Family', 'DEHBDedInnTier1FamilyPerGroup', 'DEHBDedInnTier1FamilyPerPerson', 'DEHBDedInnTier1Individual', 'DEHBDedInnTier2Coinsurance', 'DEHBDedInnTier2Family', 'DEHBDedInnTier2FamilyPerGroup', 'DEHBDedInnTier2FamilyPerPerson', 'DEHBDedInnTier2Individual', 'DEHBDedOutOfNetFamily', 'DEHBDedOutOfNetFamilyPerGroup', 'DEHBDedOutOfNetFamilyPerPerson', 'DEHBDedOutOfNetIndividual', 'DEHBInnTier1FamilyMOOP', 'DEHBInnTier1FamilyPerGroupMOOP', 'DEHBInnTier1FamilyPerPersonMOOP', 'DEHBInnTier1IndividualMOOP', 'DEHBInnTier2FamilyMOOP', 'DEHBInnTier2FamilyPerGroupMOOP', 'DEHBInnTier2FamilyPerPersonMOOP', 'DEHBInnTier2IndividualMOOP', 'DEHBOutOfNetFamilyMOOP', 'DEHBOutOfNetFamilyPerGroupMOOP', 'DEHBOutOfNetFamilyPerPersonMOOP', 'DEHBOutOfNetIndividualMOOP', 'DentalOnlyPlan', 'DiseaseManagementProgramsOffered', 'EHBPediatricDentalApportionmentQuantity', 'EHBPercentPremiumS4', 'EHBPercentTotalPremium', 'FirstTierUtilization', 'FormularyId', 'FormularyURL', 'HIOSProductId', 'HPID', 'HSAOrHRAEmployerContribution', 'HSAOrHRAEmployerContributionAmount', 'ImportDate', 'IndianPlanVariationEstimatedAdvancedPaymentAmountPerEnrollee', 'InpatientCopaymentMaximumDays', 'IsGuaranteedRate', 'IsHSAEligible', 'IsNewPlan', 'IsNoticeRequiredForPregnancy', 'IsReferralRequiredForSpecialist', 'IssuerActuarialValue', 'IssuerId', 'IssuerId2', 'MEHBCombInnOonFamilyMOOP', 'MEHBCombInnOonFamilyPerGroupMOOP', 'MEHBCombInnOonFamilyPerPersonMOOP', 'MEHBCombInnOonIndividualMOOP', 'MEHBDedCombInnOonFamily', 'MEHBDedCombInnOonFamilyPerGroup', 'MEHBDedCombInnOonFamilyPerPerson', 'MEHBDedCombInnOonIndividual', 'MEHBDedInnTier1Coinsurance', 'MEHBDedInnTier1Family', 'MEHBDedInnTier1FamilyPerGroup', 'MEHBDedInnTier1FamilyPerPerson', 'MEHBDedInnTier1Individual', 'MEHBDedInnTier2Coinsurance', 'MEHBDedInnTier2Family', 'MEHBDedInnTier2FamilyPerGroup', 'MEHBDedInnTier2FamilyPerPerson', 'MEHBDedInnTier2Individual', 'MEHBDedOutOfNetFamily', 'MEHBDedOutOfNetFamilyPerGroup', 'MEHBDedOutOfNetFamilyPerPerson', 'MEHBDedOutOfNetIndividual', 'MEHBInnTier1FamilyMOOP', 'MEHBInnTier1FamilyPerGroupMOOP', 'MEHBInnTier1FamilyPerPersonMOOP', 'MEHBInnTier1IndividualMOOP', 'MEHBInnTier2FamilyMOOP', 'MEHBInnTier2FamilyPerGroupMOOP', 'MEHBInnTier2FamilyPerPersonMOOP', 'MEHBInnTier2IndividualMOOP', 'MEHBOutOfNetFamilyMOOP', 'MEHBOutOfNetFamilyPerGroupMOOP', 'MEHBOutOfNetFamilyPerPersonMOOP', 'MEHBOutOfNetIndividualMOOP', 'MarketCoverage', 'MedicalDrugDeductiblesIntegrated', 'MedicalDrugMaximumOutofPocketIntegrated', 'MetalLevel', 'MultipleInNetworkTiers', 'NationalNetwork', 'NetworkId', 'OutOfCountryCoverage', 'OutOfCountryCoverageDescription', 'OutOfServiceAreaCoverage', 'OutOfServiceAreaCoverageDescription', 'PlanBrochure', 'PlanEffictiveDate', 'PlanExpirationDate', 'PlanId', 'PlanLevelExclusions', 'PlanMarketingName', 'PlanType', 'QHPNonQHPTypeId', 'RowNumber', 'SBCHavingDiabetesCoinsurance', 'SBCHavingDiabetesCopayment', 'SBCHavingDiabetesDeductible', 'SBCHavingDiabetesLimit', 'SBCHavingaBabyCoinsurance', 'SBCHavingaBabyCopayment', 'SBCHavingaBabyDeductible', 'SBCHavingaBabyLimit', 'SecondTierUtilization', 'ServiceAreaId', 'SourceName', 'SpecialistRequiringReferral', 'SpecialtyDrugMaximumCoinsurance', 'StandardComponentId', 'StateCode', 'StateCode2', 'TEHBCombInnOonFamilyMOOP', 'TEHBCombInnOonFamilyPerGroupMOOP', 'TEHBCombInnOonFamilyPerPersonMOOP', 'TEHBCombInnOonIndividualMOOP', 'TEHBDedCombInnOonFamily', 'TEHBDedCombInnOonFamilyPerGroup', 'TEHBDedCombInnOonFamilyPerPerson', 'TEHBDedCombInnOonIndividual', 'TEHBDedInnTier1Coinsurance', 'TEHBDedInnTier1Family', 'TEHBDedInnTier1FamilyPerGroup', 'TEHBDedInnTier1FamilyPerPerson', 'TEHBDedInnTier1Individual', 'TEHBDedInnTier2Coinsurance', 'TEHBDedInnTier2Family', 'TEHBDedInnTier2FamilyPerGroup', 'TEHBDedInnTier2FamilyPerPerson', 'TEHBDedInnTier2Individual', 'TEHBDedOutOfNetFamily', 'TEHBDedOutOfNetFamilyPerGroup', 'TEHBDedOutOfNetFamilyPerPerson', 'TEHBDedOutOfNetIndividual', 'TEHBInnTier1FamilyMOOP', 'TEHBInnTier1FamilyPerGroupMOOP', 'TEHBInnTier1FamilyPerPersonMOOP', 'TEHBInnTier1IndividualMOOP', 'TEHBInnTier2FamilyMOOP', 'TEHBInnTier2FamilyPerGroupMOOP', 'TEHBInnTier2FamilyPerPersonMOOP', 'TEHBInnTier2IndividualMOOP', 'TEHBOutOfNetFamilyMOOP', 'TEHBOutOfNetFamilyPerGroupMOOP', 'TEHBOutOfNetFamilyPerPersonMOOP', 'TEHBOutOfNetIndividualMOOP', 'TIN', 'URLForEnrollmentPayment', 'URLForSummaryofBenefitsCoverage', 'UniquePlanDesign', 'VersionNum', 'WellnessProgramOffered']\n",
      "\n",
      "\n",
      "Rate Column Names:\n",
      "\n",
      "['BusinessYear', 'StateCode', 'IssuerId', 'SourceName', 'VersionNum', 'ImportDate', 'IssuerId2', 'FederalTIN', 'RateEffectiveDate', 'RateExpirationDate', 'PlanId', 'RatingAreaId', 'Tobacco', 'Age', 'IndividualRate', 'IndividualTobaccoRate', 'Couple', 'PrimarySubscriberAndOneDependent', 'PrimarySubscriberAndTwoDependents', 'PrimarySubscriberAndThreeOrMoreDependents', 'CoupleAndOneDependent', 'CoupleAndTwoDependents', 'CoupleAndThreeOrMoreDependents', 'RowNumber']\n",
      "\n",
      "\n",
      "ServiceArea Column Names:\n",
      "\n",
      "['BusinessYear', 'StateCode', 'IssuerId', 'SourceName', 'VersionNum', 'ImportDate', 'IssuerId2', 'StateCode2', 'ServiceAreaId', 'ServiceAreaName', 'CoverEntireState', 'County', 'PartialCounty', 'ZipCodes', 'PartialCountyJustification', 'RowNumber', 'MarketCoverage', 'DentalOnlyPlan']\n",
      "\n",
      "\n"
     ]
    }
   ],
   "source": [
    "# Connect to engine\n",
    "\n",
    "metadata = sqla.MetaData()\n",
    "\n",
    "engine =  sqla.create_engine(\"sqlite:///data/database.sqlite\")\n",
    "\n",
    "table_names = engine.table_names()\n",
    "\n",
    "for table in table_names:\n",
    "    print(table+\" Column Names:\\n\")\n",
    "    cur_table = sqla.Table(table, metadata, autoload=True, autoload_with=engine)\n",
    "    print(cur_table.columns.keys())\n",
    "    print(\"\\n\")"
   ]
  },
  {
   "cell_type": "markdown",
   "metadata": {},
   "source": [
    "This database contains 6 tables describing the insurance rates (Rate), insurance plan attributes (PlanAttributes), business rules (BusinessRules), Service area covered (ServiceArea), and cost sharing attributes of the insurance plan (BenefitsCostSharing). The remaining two tables provide continuity between years so that insurance plans can be joined across 2014, 2015, and 2016. (Crosswalk2015 and Crosswalk2016) Definitions of the fields in the database can be found [here](https://www.cms.gov/cciio/resources/data-resources/marketplace-puf.html). \n",
    "\n",
    "## Exploratory Analysis\n",
    "\n",
    "The initial analysis focuses on the Rate table. There are several different insurance rates in this table depending on whether the insurance plan applies to an individual, a individual who smokes, a couple, an individual with dependents, or a couple with dependents. First, we construct a dataframe of the IndividualRates (regardless of state) for 2016. Since not all plants are for individuals, we remove entries where this value is NULL. Then, we calculate summary statistics of these rates. Finally, we make a histogram of individual rates."
   ]
  },
  {
   "cell_type": "code",
   "execution_count": null,
   "metadata": {
    "collapsed": true
   },
   "outputs": [],
   "source": []
  }
 ],
 "metadata": {
  "kernelspec": {
   "display_name": "Python 3",
   "language": "python",
   "name": "python3"
  },
  "language_info": {
   "codemirror_mode": {
    "name": "ipython",
    "version": 3
   },
   "file_extension": ".py",
   "mimetype": "text/x-python",
   "name": "python",
   "nbconvert_exporter": "python",
   "pygments_lexer": "ipython3",
   "version": "3.6.0"
  }
 },
 "nbformat": 4,
 "nbformat_minor": 2
}
