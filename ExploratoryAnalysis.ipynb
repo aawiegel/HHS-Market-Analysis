{
 "cells": [
  {
   "cell_type": "markdown",
   "metadata": {},
   "source": [
    "# Exploratory Analysis of the US Health Insurance Market from 2014-2016\n",
    "\n",
    "This notebook does an exploratory analysis of the US Health Insurance Market from 2014-2016 provided as an sqlite database on Kaggle. The database is nearly 4 GB, so it was downloaded manually and placed in the folder 'data'."
   ]
  },
  {
   "cell_type": "code",
   "execution_count": 12,
   "metadata": {
    "collapsed": true
   },
   "outputs": [],
   "source": [
    "# import relevant libraries\n",
    "\n",
    "import numpy as np\n",
    "import pandas as pd\n",
    "import matplotlib as mpl\n",
    "import matplotlib.pyplot as plt\n",
    "import seaborn as sns\n",
    "import sqlalchemy as sqla\n",
    "from decimal import Decimal as D\n",
    "\n",
    "\n",
    "# Create TypeDecorator for Numeric Data in SQLite\n",
    "\n",
    "class SqliteNumeric(sqla.types.TypeDecorator):\n",
    "    \n",
    "    # Representation in SQLite\n",
    "    impl = sqla.types.String\n",
    "    \n",
    "    # Define methods for reading and writing to database\n",
    "    def process_bind_param(self, value, dialect):\n",
    "        return str(value)\n",
    "    def process_result_value(self, value, dialect):\n",
    "        if value != \"None\":\n",
    "            return D(value)\n",
    "        else:\n",
    "            return None\n",
    "\n",
    "# Use SqliteNumeric to handle Numeric data in SQlite    \n",
    "Numeric = SqliteNumeric"
   ]
  },
  {
   "cell_type": "markdown",
   "metadata": {},
   "source": [
    "## Connection to Database and Examination of Database Structure"
   ]
  },
  {
   "cell_type": "code",
   "execution_count": 14,
   "metadata": {
    "collapsed": false,
    "scrolled": false
   },
   "outputs": [
    {
     "name": "stdout",
     "output_type": "stream",
     "text": [
      "BenefitsCostSharing Column Names:\n",
      "\n",
      "['BenefitName', 'BusinessYear', 'CoinsInnTier1', 'CoinsInnTier2', 'CoinsOutofNet', 'CopayInnTier1', 'CopayInnTier2', 'CopayOutofNet', 'EHBVarReason', 'Exclusions', 'Explanation', 'ImportDate', 'IsCovered', 'IsEHB', 'IsExclFromInnMOOP', 'IsExclFromOonMOOP', 'IsStateMandate', 'IsSubjToDedTier1', 'IsSubjToDedTier2', 'IssuerId', 'IssuerId2', 'LimitQty', 'LimitUnit', 'MinimumStay', 'PlanId', 'QuantLimitOnSvc', 'RowNumber', 'SourceName', 'StandardComponentId', 'StateCode', 'StateCode2', 'VersionNum']\n",
      "\n",
      "\n",
      "BusinessRules Column Names:\n",
      "\n",
      "['BusinessYear', 'StateCode', 'IssuerId', 'SourceName', 'VersionNum', 'ImportDate', 'IssuerId2', 'TIN', 'ProductId', 'StandardComponentId', 'EnrolleeContractRateDeterminationRule', 'TwoParentFamilyMaxDependentsRule', 'SingleParentFamilyMaxDependentsRule', 'DependentMaximumAgRule', 'ChildrenOnlyContractMaxChildrenRule', 'DomesticPartnerAsSpouseIndicator', 'SameSexPartnerAsSpouseIndicator', 'AgeDeterminationRule', 'MinimumTobaccoFreeMonthsRule', 'CohabitationRule', 'RowNumber', 'MarketCoverage', 'DentalOnlyPlan']\n",
      "\n",
      "\n",
      "Crosswalk2015 Column Names:\n",
      "\n",
      "['State', 'DentalPlan', 'PlanID_2014', 'IssuerID_2014', 'MultistatePlan_2014', 'MetalLevel_2014', 'ChildAdultOnly_2014', 'FIPSCode', 'ZipCode', 'CrosswalkLevel', 'ReasonForCrosswalk', 'PlanID_2015', 'IssuerID_2015', 'MultistatePlan_2015', 'MetalLevel_2015', 'ChildAdultOnly_2015', 'AgeOffPlanID_2015', 'IssuerID_AgeOff2015', 'MultistatePlan_AgeOff2015', 'MetalLevel_AgeOff2015', 'ChildAdultOnly_AgeOff2015']\n",
      "\n",
      "\n",
      "Crosswalk2016 Column Names:\n",
      "\n",
      "['State', 'DentalPlan', 'PlanID_2015', 'IssuerID_2015', 'MultistatePlan_2015', 'MetalLevel_2015', 'ChildAdultOnly_2015', 'FIPSCode', 'ZipCode', 'CrosswalkLevel', 'ReasonForCrosswalk', 'PlanID_2016', 'IssuerID_2016', 'MultistatePlan_2016', 'MetalLevel_2016', 'ChildAdultOnly_2016', 'AgeOffPlanID_2016', 'IssuerID_AgeOff2016', 'MultistatePlan_AgeOff2016', 'MetalLevel_AgeOff2016', 'ChildAdultOnly_AgeOff2016']\n",
      "\n",
      "\n",
      "Network Column Names:\n",
      "\n",
      "['BusinessYear', 'StateCode', 'IssuerId', 'SourceName', 'VersionNum', 'ImportDate', 'IssuerId2', 'StateCode2', 'NetworkName', 'NetworkId', 'NetworkURL', 'RowNumber', 'MarketCoverage', 'DentalOnlyPlan']\n",
      "\n",
      "\n",
      "PlanAttributes Column Names:\n",
      "\n",
      "['AVCalculatorOutputNumber', 'BeginPrimaryCareCostSharingAfterNumberOfVisits', 'BeginPrimaryCareDeductibleCoinsuranceAfterNumberOfCopays', 'BenefitPackageId', 'BusinessYear', 'CSRVariationType', 'ChildOnlyOffering', 'ChildOnlyPlanId', 'CompositeRatingOffered', 'DEHBCombInnOonFamilyMOOP', 'DEHBCombInnOonFamilyPerGroupMOOP', 'DEHBCombInnOonFamilyPerPersonMOOP', 'DEHBCombInnOonIndividualMOOP', 'DEHBDedCombInnOonFamily', 'DEHBDedCombInnOonFamilyPerGroup', 'DEHBDedCombInnOonFamilyPerPerson', 'DEHBDedCombInnOonIndividual', 'DEHBDedInnTier1Coinsurance', 'DEHBDedInnTier1Family', 'DEHBDedInnTier1FamilyPerGroup', 'DEHBDedInnTier1FamilyPerPerson', 'DEHBDedInnTier1Individual', 'DEHBDedInnTier2Coinsurance', 'DEHBDedInnTier2Family', 'DEHBDedInnTier2FamilyPerGroup', 'DEHBDedInnTier2FamilyPerPerson', 'DEHBDedInnTier2Individual', 'DEHBDedOutOfNetFamily', 'DEHBDedOutOfNetFamilyPerGroup', 'DEHBDedOutOfNetFamilyPerPerson', 'DEHBDedOutOfNetIndividual', 'DEHBInnTier1FamilyMOOP', 'DEHBInnTier1FamilyPerGroupMOOP', 'DEHBInnTier1FamilyPerPersonMOOP', 'DEHBInnTier1IndividualMOOP', 'DEHBInnTier2FamilyMOOP', 'DEHBInnTier2FamilyPerGroupMOOP', 'DEHBInnTier2FamilyPerPersonMOOP', 'DEHBInnTier2IndividualMOOP', 'DEHBOutOfNetFamilyMOOP', 'DEHBOutOfNetFamilyPerGroupMOOP', 'DEHBOutOfNetFamilyPerPersonMOOP', 'DEHBOutOfNetIndividualMOOP', 'DentalOnlyPlan', 'DiseaseManagementProgramsOffered', 'EHBPediatricDentalApportionmentQuantity', 'EHBPercentPremiumS4', 'EHBPercentTotalPremium', 'FirstTierUtilization', 'FormularyId', 'FormularyURL', 'HIOSProductId', 'HPID', 'HSAOrHRAEmployerContribution', 'HSAOrHRAEmployerContributionAmount', 'ImportDate', 'IndianPlanVariationEstimatedAdvancedPaymentAmountPerEnrollee', 'InpatientCopaymentMaximumDays', 'IsGuaranteedRate', 'IsHSAEligible', 'IsNewPlan', 'IsNoticeRequiredForPregnancy', 'IsReferralRequiredForSpecialist', 'IssuerActuarialValue', 'IssuerId', 'IssuerId2', 'MEHBCombInnOonFamilyMOOP', 'MEHBCombInnOonFamilyPerGroupMOOP', 'MEHBCombInnOonFamilyPerPersonMOOP', 'MEHBCombInnOonIndividualMOOP', 'MEHBDedCombInnOonFamily', 'MEHBDedCombInnOonFamilyPerGroup', 'MEHBDedCombInnOonFamilyPerPerson', 'MEHBDedCombInnOonIndividual', 'MEHBDedInnTier1Coinsurance', 'MEHBDedInnTier1Family', 'MEHBDedInnTier1FamilyPerGroup', 'MEHBDedInnTier1FamilyPerPerson', 'MEHBDedInnTier1Individual', 'MEHBDedInnTier2Coinsurance', 'MEHBDedInnTier2Family', 'MEHBDedInnTier2FamilyPerGroup', 'MEHBDedInnTier2FamilyPerPerson', 'MEHBDedInnTier2Individual', 'MEHBDedOutOfNetFamily', 'MEHBDedOutOfNetFamilyPerGroup', 'MEHBDedOutOfNetFamilyPerPerson', 'MEHBDedOutOfNetIndividual', 'MEHBInnTier1FamilyMOOP', 'MEHBInnTier1FamilyPerGroupMOOP', 'MEHBInnTier1FamilyPerPersonMOOP', 'MEHBInnTier1IndividualMOOP', 'MEHBInnTier2FamilyMOOP', 'MEHBInnTier2FamilyPerGroupMOOP', 'MEHBInnTier2FamilyPerPersonMOOP', 'MEHBInnTier2IndividualMOOP', 'MEHBOutOfNetFamilyMOOP', 'MEHBOutOfNetFamilyPerGroupMOOP', 'MEHBOutOfNetFamilyPerPersonMOOP', 'MEHBOutOfNetIndividualMOOP', 'MarketCoverage', 'MedicalDrugDeductiblesIntegrated', 'MedicalDrugMaximumOutofPocketIntegrated', 'MetalLevel', 'MultipleInNetworkTiers', 'NationalNetwork', 'NetworkId', 'OutOfCountryCoverage', 'OutOfCountryCoverageDescription', 'OutOfServiceAreaCoverage', 'OutOfServiceAreaCoverageDescription', 'PlanBrochure', 'PlanEffictiveDate', 'PlanExpirationDate', 'PlanId', 'PlanLevelExclusions', 'PlanMarketingName', 'PlanType', 'QHPNonQHPTypeId', 'RowNumber', 'SBCHavingDiabetesCoinsurance', 'SBCHavingDiabetesCopayment', 'SBCHavingDiabetesDeductible', 'SBCHavingDiabetesLimit', 'SBCHavingaBabyCoinsurance', 'SBCHavingaBabyCopayment', 'SBCHavingaBabyDeductible', 'SBCHavingaBabyLimit', 'SecondTierUtilization', 'ServiceAreaId', 'SourceName', 'SpecialistRequiringReferral', 'SpecialtyDrugMaximumCoinsurance', 'StandardComponentId', 'StateCode', 'StateCode2', 'TEHBCombInnOonFamilyMOOP', 'TEHBCombInnOonFamilyPerGroupMOOP', 'TEHBCombInnOonFamilyPerPersonMOOP', 'TEHBCombInnOonIndividualMOOP', 'TEHBDedCombInnOonFamily', 'TEHBDedCombInnOonFamilyPerGroup', 'TEHBDedCombInnOonFamilyPerPerson', 'TEHBDedCombInnOonIndividual', 'TEHBDedInnTier1Coinsurance', 'TEHBDedInnTier1Family', 'TEHBDedInnTier1FamilyPerGroup', 'TEHBDedInnTier1FamilyPerPerson', 'TEHBDedInnTier1Individual', 'TEHBDedInnTier2Coinsurance', 'TEHBDedInnTier2Family', 'TEHBDedInnTier2FamilyPerGroup', 'TEHBDedInnTier2FamilyPerPerson', 'TEHBDedInnTier2Individual', 'TEHBDedOutOfNetFamily', 'TEHBDedOutOfNetFamilyPerGroup', 'TEHBDedOutOfNetFamilyPerPerson', 'TEHBDedOutOfNetIndividual', 'TEHBInnTier1FamilyMOOP', 'TEHBInnTier1FamilyPerGroupMOOP', 'TEHBInnTier1FamilyPerPersonMOOP', 'TEHBInnTier1IndividualMOOP', 'TEHBInnTier2FamilyMOOP', 'TEHBInnTier2FamilyPerGroupMOOP', 'TEHBInnTier2FamilyPerPersonMOOP', 'TEHBInnTier2IndividualMOOP', 'TEHBOutOfNetFamilyMOOP', 'TEHBOutOfNetFamilyPerGroupMOOP', 'TEHBOutOfNetFamilyPerPersonMOOP', 'TEHBOutOfNetIndividualMOOP', 'TIN', 'URLForEnrollmentPayment', 'URLForSummaryofBenefitsCoverage', 'UniquePlanDesign', 'VersionNum', 'WellnessProgramOffered']\n",
      "\n",
      "\n",
      "Rate Column Names:\n",
      "\n",
      "['BusinessYear', 'StateCode', 'IssuerId', 'SourceName', 'VersionNum', 'ImportDate', 'IssuerId2', 'FederalTIN', 'RateEffectiveDate', 'RateExpirationDate', 'PlanId', 'RatingAreaId', 'Tobacco', 'Age', 'IndividualRate', 'IndividualTobaccoRate', 'Couple', 'PrimarySubscriberAndOneDependent', 'PrimarySubscriberAndTwoDependents', 'PrimarySubscriberAndThreeOrMoreDependents', 'CoupleAndOneDependent', 'CoupleAndTwoDependents', 'CoupleAndThreeOrMoreDependents', 'RowNumber']\n",
      "\n",
      "\n",
      "ServiceArea Column Names:\n",
      "\n",
      "['BusinessYear', 'StateCode', 'IssuerId', 'SourceName', 'VersionNum', 'ImportDate', 'IssuerId2', 'StateCode2', 'ServiceAreaId', 'ServiceAreaName', 'CoverEntireState', 'County', 'PartialCounty', 'ZipCodes', 'PartialCountyJustification', 'RowNumber', 'MarketCoverage', 'DentalOnlyPlan']\n",
      "\n",
      "\n"
     ]
    }
   ],
   "source": [
    "# Connect to engine\n",
    "\n",
    "metadata = sqla.MetaData()\n",
    "\n",
    "engine =  sqla.create_engine(\"sqlite:///data/database.sqlite\")\n",
    "\n",
    "table_names = engine.table_names()\n",
    "\n",
    "tables = dict()\n",
    "\n",
    "for table in table_names:\n",
    "    print(table+\" Column Names:\\n\")\n",
    "    tables[table] = sqla.Table(table, metadata, autoload=True, autoload_with=engine)\n",
    "    print(tables[table].columns.keys())\n",
    "    print(\"\\n\")"
   ]
  },
  {
   "cell_type": "markdown",
   "metadata": {},
   "source": [
    "This database contains 6 tables describing the insurance rates (Rate), insurance plan attributes (PlanAttributes), business rules (BusinessRules), Service area covered (ServiceArea), and cost sharing attributes of the insurance plan (BenefitsCostSharing). The remaining two tables provide continuity between years so that insurance plans can be joined across 2014, 2015, and 2016. (Crosswalk2015 and Crosswalk2016) Definitions of the fields in the database can be found [here](https://www.cms.gov/cciio/resources/data-resources/marketplace-puf.html). \n",
    "\n",
    "## Exploratory Analysis\n",
    "\n",
    "The initial analysis focuses on the Rate table. There are several different insurance rates in this table depending on whether the insurance plan applies to an individual, a individual who smokes, a couple, an individual with dependents, or a couple with dependents. First, we construct a dataframe of the IndividualRates (regardless of state) for 2016 that are not 9999 or have a Family Option, which indicates that the plan is some other type. Then, we calculate summary statistics of these rates. Finally, we make a histogram of individual rates."
   ]
  },
  {
   "cell_type": "code",
   "execution_count": 20,
   "metadata": {
    "collapsed": false
   },
   "outputs": [
    {
     "name": "stdout",
     "output_type": "stream",
     "text": [
      "       IndividualRate\n",
      "count    4.197006e+06\n",
      "mean     3.184305e+02\n",
      "std      3.035833e+02\n",
      "min      0.000000e+00\n",
      "25%      2.850000e+01\n",
      "50%      2.968500e+02\n",
      "75%      4.873500e+02\n",
      "max      2.421000e+03\n"
     ]
    },
    {
     "data": {
      "image/png": "[encoded data removed]",
      "text/plain": [
       "<matplotlib.figure.Figure at 0x1d26a0aa630>"
      ]
     },
     "metadata": {},
     "output_type": "display_data"
    }
   ],
   "source": [
    "\n",
    "# Generate SQL statement\n",
    "\n",
    "conn = engine.connect()\n",
    "\n",
    "# Equivalent to SELECT IndividualRate FROM Rate\n",
    "stmt = sqla.select([tables[\"Rate\"].columns.IndividualRate])\n",
    "\n",
    "# Adds where clause: \n",
    "# SELECT IndividualRate FROM Rate \n",
    "# WHERE BusinessYear = 2016 and Age != 'Family Option' and IndividualRate < 9000\n",
    "stmt = stmt.where(sqla.and_(tables[\"Rate\"].columns.BusinessYear == 2016,\n",
    "                            tables[\"Rate\"].columns.Age != \"Family Option\",\n",
    "                           tables[\"Rate\"].columns.IndividualRate < 9000))\n",
    "!\n",
    "rates = pd.read_sql(stmt, conn)\n",
    "\n",
    "print(rates.describe())\n",
    "                  \n",
    "plt.hist(rates['IndividualRate'], bins = 20)\n",
    "plt.xlabel(\"Monthly Cost\")\n",
    "plt.ylabel(\"Count\")\n",
    "plt.show()\n",
    "\n"
   ]
  },
  {
   "cell_type": "markdown",
   "metadata": {},
   "source": [
    "There seems to be quite a few plans where the monthly rate is 0, but the reason why is unclear. These could be subsidized plans or perhaps we did not filter out the data correctly. As a check, we replot the histogram with the zero values filtered out."
   ]
  },
  {
   "cell_type": "code",
   "execution_count": 21,
   "metadata": {
    "collapsed": false
   },
   "outputs": [
    {
     "data": {
      "image/png": "[encoded data removed]",
      "text/plain": [
       "<matplotlib.figure.Figure at 0x1d25f934780>"
      ]
     },
     "metadata": {},
     "output_type": "display_data"
    }
   ],
   "source": [
    "plt.hist(rates['IndividualRate'][rates['IndividualRate'] > 0], bins = 20)\n",
    "plt.xlabel(\"Monthly Cost\")\n",
    "plt.ylabel(\"Count\")\n",
    "plt.show()"
   ]
  },
  {
   "cell_type": "markdown",
   "metadata": {},
   "source": [
    "Many low cost plans remain, so perhaps several people buy insurance just at the cost of the subsidy. Under ACA, the second cheapest silver plan gets a full subsidy at the lower income levels. Therefore, we should investigate the cost of the plans as a function of the 'metal'. In addition, dental plans are included on the marketplace, so we should filter these out to see if they are contributing to the large peak near 0. To do so, we need to construct a more complex SQL query."
   ]
  },
  {
   "cell_type": "code",
   "execution_count": null,
   "metadata": {
    "collapsed": true
   },
   "outputs": [],
   "source": []
  }
 ],
 "metadata": {
  "kernelspec": {
   "display_name": "Python 3",
   "language": "python",
   "name": "python3"
  },
  "language_info": {
   "codemirror_mode": {
    "name": "ipython",
    "version": 3
   },
   "file_extension": ".py",
   "mimetype": "text/x-python",
   "name": "python",
   "nbconvert_exporter": "python",
   "pygments_lexer": "ipython3",
   "version": "3.6.0"
  }
 },
 "nbformat": 4,
 "nbformat_minor": 2
}
